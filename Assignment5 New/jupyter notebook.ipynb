{
 "cells": [
  {
   "cell_type": "markdown",
   "metadata": {},
   "source": [
    "# Question 1: How many protein records are in UniProt?\n",
    "\n",
    "There are 322278756 records without distinct. So slowly when I run distinct query.\n"
   ]
  },
  {
   "cell_type": "code",
   "execution_count": 4,
   "metadata": {},
   "outputs": [
    {
     "data": {
      "text/html": [
       "<div class=\"krn-spql\"><div class=\"magic\">Endpoint set to: https://sparql.uniprot.org/sparql</div><div class=\"magic\">Logging set to DEBUG</div><div class=\"magic\">Result maximum size: 20</div><div class=\"magic\">Output file: /Users/pengxt/Documents/gitroom/homework/R-2020-12-16-sparql/query.log</div></div>"
      ],
      "text/plain": [
       "Endpoint set to: https://sparql.uniprot.org/sparql\n",
       "Logging set to DEBUG\n",
       "Result maximum size: 20\n",
       "Output file: /Users/pengxt/Documents/gitroom/homework/R-2020-12-16-sparql/query.log\n"
      ]
     },
     "metadata": {},
     "output_type": "display_data"
    }
   ],
   "source": [
    "%endpoint https://sparql.uniprot.org/sparql\n",
    "%log debug\n",
    "%show 20\n",
    "%outfile query.log"
   ]
  },
  {
   "cell_type": "code",
   "execution_count": null,
   "metadata": {},
   "outputs": [],
   "source": [
    "# this is distinct version\n",
    "\n",
    "PREFIX up: <http://purl.uniprot.org/core/>\n",
    "\n",
    "SELECT (COUNT(DISTINCT ?protein) AS ?count)\n",
    "WHERE\n",
    "{\n",
    "    ?protein a up:Protein .  \n",
    "}"
   ]
  },
  {
   "cell_type": "code",
   "execution_count": 11,
   "metadata": {},
   "outputs": [
    {
     "data": {
      "text/html": [
       "<div class=\"krn-spql\"><table><tr class=hdr><th>count</th></tr><tr class=odd><td class=val>322278756</td></tr></table><div class=\"tinfo\">Total: 1, Shown: 1</div></div>"
      ]
     },
     "metadata": {},
     "output_type": "display_data"
    }
   ],
   "source": [
    "PREFIX up: <http://purl.uniprot.org/core/>\n",
    "\n",
    "SELECT (COUNT(?protein) AS ?count)\n",
    "WHERE\n",
    "{\n",
    "    ?protein a up:Protein .\n",
    "}\n",
    "limit 10"
   ]
  },
  {
   "cell_type": "markdown",
   "metadata": {},
   "source": [
    "# Question 2: How many Arabidopsis thaliana protein records are in UniProt?\n",
    "\n",
    "The query run slowly."
   ]
  },
  {
   "cell_type": "code",
   "execution_count": null,
   "metadata": {},
   "outputs": [],
   "source": [
    "# Taxon identifier of Arabidopsis thaliana protein is 3702\n",
    "\n",
    "PREFIX up: <http://purl.uniprot.org/core/>\n",
    "PREFIX taxon: <http://purl.uniprot.org/taxonomy/>\n",
    "\n",
    "\n",
    "SELECT (COUNT(?protein) AS ?count)\n",
    "WHERE\n",
    "{\n",
    "    ?protein a up:Protein .\n",
    "    ?proten up:organism taxon:3702 .\n",
    "}\n",
    "limit 10"
   ]
  },
  {
   "cell_type": "code",
   "execution_count": null,
   "metadata": {},
   "outputs": [],
   "source": [
    "PREFIX up: <http://purl.uniprot.org/core/>\n",
    "PREFIX taxon: <http://purl.uniprot.org/taxonomy/>\n",
    "\n",
    "\n",
    "SELECT (COUNT(distinct ?protein) AS ?count)\n",
    "WHERE\n",
    "{\n",
    "    ?protein a up:Protein .\n",
    "    ?proten up:organism taxon:3702 .\n",
    "}\n",
    "limit 10"
   ]
  },
  {
   "cell_type": "markdown",
   "metadata": {},
   "source": [
    "# Question 3: retrieve pictures of Arabidopsis thaliana from UniProt?"
   ]
  },
  {
   "cell_type": "code",
   "execution_count": 29,
   "metadata": {},
   "outputs": [
    {
     "data": {
      "text/html": [
       "<div class=\"krn-spql\"><table><tr class=hdr><th>picture</th>\n",
       "<th>height</th>\n",
       "<th>width</th></tr><tr class=odd><td class=val><a href=\"https://upload.wikimedia.org/wikipedia/commons/3/3a/Bee-sting-abeille-dard-2.jpg\" target=\"_other\">https://upload.wikimedia.org/wikipedia/commons/3/3a/Bee-sting-abeille-dard-2.jpg</a></td>\n",
       "<td class=val>443</td>\n",
       "<td class=val>390</td></tr><tr class=even><td class=val><a href=\"https://upload.wikimedia.org/wikipedia/commons/5/50/Panorpa.alpina.jpg\" target=\"_other\">https://upload.wikimedia.org/wikipedia/commons/5/50/Panorpa.alpina.jpg</a></td>\n",
       "<td class=val>425</td>\n",
       "<td class=val>640</td></tr><tr class=odd><td class=val><a href=\"https://upload.wikimedia.org/wikipedia/commons/5/55/Bombus.sylvarum.-.lindsey.jpg\" target=\"_other\">https://upload.wikimedia.org/wikipedia/commons/5/55/Bombus.sylvarum.-.lindsey.jpg</a></td>\n",
       "<td class=val>600</td>\n",
       "<td class=val>400</td></tr><tr class=even><td class=val><a href=\"https://upload.wikimedia.org/wikipedia/commons/5/55/Lasioglossum_laticeps.jpg\" target=\"_other\">https://upload.wikimedia.org/wikipedia/commons/5/55/Lasioglossum_laticeps.jpg</a></td>\n",
       "<td class=val>588</td>\n",
       "<td class=val>800</td></tr><tr class=odd><td class=val><a href=\"https://upload.wikimedia.org/wikipedia/commons/9/92/Andrena_wilkella_f.jpg\" target=\"_other\">https://upload.wikimedia.org/wikipedia/commons/9/92/Andrena_wilkella_f.jpg</a></td>\n",
       "<td class=val>574</td>\n",
       "<td class=val>800</td></tr><tr class=even><td class=val><a href=\"https://upload.wikimedia.org/wikipedia/commons/a/ac/Tuinhommel_op_vingerhoedskruid_closeup%281%29.jpg\" target=\"_other\">https://upload.wikimedia.org/wikipedia/commons/a/ac/Tuinhommel_op_vingerhoedskruid_closeup%281%29.jpg</a></td>\n",
       "<td class=val>348</td>\n",
       "<td class=val>478</td></tr><tr class=odd><td class=val><a href=\"https://upload.wikimedia.org/wikipedia/commons/c/c4/Drawf_Honey_Bee_%28India%29.jpg\" target=\"_other\">https://upload.wikimedia.org/wikipedia/commons/c/c4/Drawf_Honey_Bee_%28India%29.jpg</a></td>\n",
       "<td class=val>500</td>\n",
       "<td class=val>800</td></tr><tr class=even><td class=val><a href=\"https://upload.wikimedia.org/wikipedia/commons/c/cc/Phthorimaea_operculella_dorsal.jpg\" target=\"_other\">https://upload.wikimedia.org/wikipedia/commons/c/cc/Phthorimaea_operculella_dorsal.jpg</a></td>\n",
       "<td class=val>540</td>\n",
       "<td class=val>720</td></tr><tr class=odd><td class=val><a href=\"https://upload.wikimedia.org/wikipedia/commons/d/d9/Bombus.subterraneus.-.lindsey.jpg\" target=\"_other\">https://upload.wikimedia.org/wikipedia/commons/d/d9/Bombus.subterraneus.-.lindsey.jpg</a></td>\n",
       "<td class=val>426</td>\n",
       "<td class=val>640</td></tr><tr class=even><td class=val><a href=\"https://upload.wikimedia.org/wikipedia/commons/d/db/Halictus.rubicundus.-.lindsey.jpg\" target=\"_other\">https://upload.wikimedia.org/wikipedia/commons/d/db/Halictus.rubicundus.-.lindsey.jpg</a></td>\n",
       "<td class=val>426</td>\n",
       "<td class=val>640</td></tr></table><div class=\"tinfo\">Total: 10, Shown: 10</div></div>"
      ]
     },
     "metadata": {},
     "output_type": "display_data"
    }
   ],
   "source": [
    "# retrieve pictures from proteins and Arabidopsis thaliana\n",
    "PREFIX rdfs: <http://www.w3.org/2000/01/rdf-schema#>\n",
    "PREFIX rdf: <http://www.w3.org/1999/02/22-rdf-syntax-ns#>\n",
    "PREFIX taxon: <http://purl.uniprot.org/taxonomy/>\n",
    "PREFIX up: <http://purl.uniprot.org/core/>\n",
    "PREFIX foaf: <http://xmlns.com/foaf/0.1/>\n",
    "\n",
    "\n",
    "SELECT ?picture\n",
    "WHERE\n",
    "{\n",
    "    ?x a up:Protein .\n",
    "    ?x up:organism taxon:3702 .\n",
    "    ?picture up:height ?height .\n",
    "    ?picture up:width ?width    \n",
    "}"
   ]
  },
  {
   "cell_type": "markdown",
   "metadata": {},
   "source": [
    "# Question 4: What is the description of the enzyme activity of UniProt Protein Q9SZZ8?\n",
    "\n",
    "the description of the enzyme activity of UniProt Protein Q9SZZ8 is Beta-carotene + 4 reduced ferredoxin [iron-sulfur] cluster + 2 H(+) + 2 O(2) = zeaxanthin + 4 oxidized ferredoxin [iron-sulfur] cluster + 2 H(2)O."
   ]
  },
  {
   "cell_type": "code",
   "execution_count": 8,
   "metadata": {},
   "outputs": [
    {
     "data": {
      "text/html": [
       "<div class=\"krn-spql\"><table><tr class=hdr><th>protein</th>\n",
       "<th>enzyme</th>\n",
       "<th>activity</th>\n",
       "<th>description</th></tr><tr class=odd><td class=val><a href=\"http://purl.uniprot.org/uniprot/Q9SZZ8\" target=\"_other\">http://purl.uniprot.org/uniprot/Q9SZZ8</a></td>\n",
       "<td class=val><a href=\"http://purl.uniprot.org/enzyme/1.14.15.24\" target=\"_other\">http://purl.uniprot.org/enzyme/1.14.15.24</a></td>\n",
       "<td class=val><a href=\"http://purl.uniprot.org/enzyme/1.14.15.24#SIPF8A63F68B2741FFE\" target=\"_other\">http://purl.uniprot.org/enzyme/1.14.15.24#SIPF8A63F68B2741FFE</a></td>\n",
       "<td class=val>Beta-carotene + 4 reduced ferredoxin [iron-sulfur] cluster + 2 H(+) + 2 O(2) = zeaxanthin + 4 oxidized ferredoxin [iron-sulfur] cluster + 2 H(2)O.</td></tr></table><div class=\"tinfo\">Total: 1, Shown: 1</div></div>"
      ]
     },
     "metadata": {},
     "output_type": "display_data"
    }
   ],
   "source": [
    "PREFIX rdfs: <http://www.w3.org/2000/01/rdf-schema#>\n",
    "PREFIX rdf: <http://www.w3.org/1999/02/22-rdf-syntax-ns#>\n",
    "PREFIX up: <http://purl.uniprot.org/core/>\n",
    "\n",
    "\n",
    "SELECT ?protein ?enzyme ?activity ?description\n",
    "WHERE\n",
    "{\n",
    "    ?protein a up:Protein .\n",
    "    ?protein up:mnemonic \"BCH1_ARATH\" .\n",
    "    ?protein up:enzyme ?enzyme .\n",
    "    ?enzyme up:activity ?activity  .\n",
    "    ?activity rdfs:label ?description .\n",
    "}\n"
   ]
  },
  {
   "cell_type": "markdown",
   "metadata": {},
   "source": [
    "# Question 5: Retrieve the proteins ids, and date of submission, for proteins that have been added to UniProt this year\n",
    "\n",
    "we only retrieve 10 records."
   ]
  },
  {
   "cell_type": "code",
   "execution_count": 2,
   "metadata": {},
   "outputs": [
    {
     "data": {
      "text/html": [
       "<div class=\"krn-spql\"><table><tr class=hdr><th>protein</th>\n",
       "<th>created</th></tr><tr class=odd><td class=val><a href=\"http://purl.uniprot.org/uniprot/A0A5D4QTF6\" target=\"_other\">http://purl.uniprot.org/uniprot/A0A5D4QTF6</a></td>\n",
       "<td class=val>2020-02-26</td></tr><tr class=even><td class=val><a href=\"http://purl.uniprot.org/uniprot/A0A5D4QTF6\" target=\"_other\">http://purl.uniprot.org/uniprot/A0A5D4QTF6</a></td>\n",
       "<td class=val>2020-02-26</td></tr><tr class=odd><td class=val><a href=\"http://purl.uniprot.org/uniprot/A0A5D4SCR7\" target=\"_other\">http://purl.uniprot.org/uniprot/A0A5D4SCR7</a></td>\n",
       "<td class=val>2020-02-26</td></tr><tr class=even><td class=val><a href=\"http://purl.uniprot.org/uniprot/A0A5D4SCR7\" target=\"_other\">http://purl.uniprot.org/uniprot/A0A5D4SCR7</a></td>\n",
       "<td class=val>2020-02-26</td></tr><tr class=odd><td class=val><a href=\"http://purl.uniprot.org/uniprot/A0A5D4SQH5\" target=\"_other\">http://purl.uniprot.org/uniprot/A0A5D4SQH5</a></td>\n",
       "<td class=val>2020-02-26</td></tr><tr class=even><td class=val><a href=\"http://purl.uniprot.org/uniprot/A0A5D4SQH5\" target=\"_other\">http://purl.uniprot.org/uniprot/A0A5D4SQH5</a></td>\n",
       "<td class=val>2020-02-26</td></tr><tr class=odd><td class=val><a href=\"http://purl.uniprot.org/uniprot/A0A5N5U371\" target=\"_other\">http://purl.uniprot.org/uniprot/A0A5N5U371</a></td>\n",
       "<td class=val>2020-02-26</td></tr><tr class=even><td class=val><a href=\"http://purl.uniprot.org/uniprot/A0A5N5U371\" target=\"_other\">http://purl.uniprot.org/uniprot/A0A5N5U371</a></td>\n",
       "<td class=val>2020-02-26</td></tr><tr class=odd><td class=val><a href=\"http://purl.uniprot.org/uniprot/A0A5N5UEH0\" target=\"_other\">http://purl.uniprot.org/uniprot/A0A5N5UEH0</a></td>\n",
       "<td class=val>2020-02-26</td></tr><tr class=even><td class=val><a href=\"http://purl.uniprot.org/uniprot/A0A5N5UEH0\" target=\"_other\">http://purl.uniprot.org/uniprot/A0A5N5UEH0</a></td>\n",
       "<td class=val>2020-02-26</td></tr></table><div class=\"tinfo\">Total: 10, Shown: 10</div></div>"
      ]
     },
     "metadata": {},
     "output_type": "display_data"
    }
   ],
   "source": [
    "PREFIX up:<http://purl.uniprot.org/core/> \n",
    "PREFIX xsd:<http://www.w3.org/2001/XMLSchema#>\n",
    "\n",
    "SELECT ?protein ?created\n",
    "WHERE\n",
    "{\n",
    "    ?protein a up:Protein .\n",
    "    ?protein up:created ?created .\n",
    "    FILTER (?created >= \"2020-01-01\"^^xsd:date) .\n",
    "}\n",
    "limit 10"
   ]
  },
  {
   "cell_type": "markdown",
   "metadata": {},
   "source": [
    "# Question 6: How many species are in the UniProt taxonomy?\n",
    "\n",
    "There are 2615376 species in the UniProt taxonomy."
   ]
  },
  {
   "cell_type": "code",
   "execution_count": 18,
   "metadata": {},
   "outputs": [
    {
     "data": {
      "text/html": [
       "<div class=\"krn-spql\"><table><tr class=hdr><th>count</th></tr><tr class=odd><td class=val>2615376</td></tr></table><div class=\"tinfo\">Total: 1, Shown: 1</div></div>"
      ]
     },
     "metadata": {},
     "output_type": "display_data"
    }
   ],
   "source": [
    "PREFIX up: <http://purl.uniprot.org/core/>\n",
    "PREFIX xsd:<http://www.w3.org/2001/XMLSchema#>\n",
    "\n",
    "SELECT (count(distinct ?taxon) as ?count)\n",
    "FROM <http://sparql.uniprot.org/taxonomy>\n",
    "WHERE\n",
    "{\n",
    "    ?taxon a up:Taxon .\n",
    "    #?taxon up:rank $species .\n",
    "    \n",
    "}\n",
    "limit 10"
   ]
  },
  {
   "cell_type": "markdown",
   "metadata": {},
   "source": [
    "# Question 7: How many species have at least one protein record? (this might take a long time to execute, so do this one last!)\n",
    "\n",
    "Query run so slowly."
   ]
  },
  {
   "cell_type": "code",
   "execution_count": null,
   "metadata": {},
   "outputs": [],
   "source": [
    "PREFIX up: <http://purl.uniprot.org/core/>\n",
    "PREFIX xsd:<http://www.w3.org/2001/XMLSchema#>\n",
    "\n",
    "SELECT count(?taxon)\n",
    "WHERE\n",
    "{\n",
    "    ?taxon a up:Taxon .\n",
    "    ?protein up:organism ?taxon .    \n",
    "}\n",
    "GROUP BY ?taxon\n",
    "HAVING(count(?protein) > 0)\n"
   ]
  },
  {
   "cell_type": "markdown",
   "metadata": {},
   "source": [
    "# Question 8: find the AGI codes and gene names for all Arabidopsis thaliana proteins that  have a protein function annotation description that mentions “pattern formation”\n",
    "\n",
    "I only query 10 result."
   ]
  },
  {
   "cell_type": "code",
   "execution_count": 2,
   "metadata": {},
   "outputs": [
    {
     "data": {
      "text/html": [
       "<div class=\"krn-spql\"><table><tr class=hdr><th>geneName</th>\n",
       "<th>AGI</th></tr><tr class=odd><td class=val>RPK2</td>\n",
       "<td class=val>At3g02130</td></tr><tr class=even><td class=val>RPK2</td>\n",
       "<td class=val>At3g02130</td></tr><tr class=odd><td class=val>RPK2</td>\n",
       "<td class=val>At3g02130</td></tr><tr class=even><td class=val>RPK2</td>\n",
       "<td class=val>At3g02130</td></tr><tr class=odd><td class=val>ROPGAP3</td>\n",
       "<td class=val>At2g46710</td></tr><tr class=even><td class=val>ROPGAP3</td>\n",
       "<td class=val>At2g46710</td></tr><tr class=odd><td class=val>SWEET8</td>\n",
       "<td class=val>At5g40260</td></tr><tr class=even><td class=val>SWEET8</td>\n",
       "<td class=val>At5g40260</td></tr><tr class=odd><td class=val>SWEET8</td>\n",
       "<td class=val>At5g40260</td></tr><tr class=even><td class=val>SWEET8</td>\n",
       "<td class=val>At5g40260</td></tr></table><div class=\"tinfo\">Total: 10, Shown: 10</div></div>"
      ]
     },
     "metadata": {},
     "output_type": "display_data"
    }
   ],
   "source": [
    "#AGI is Arabidopsis Gene Id\n",
    "PREFIX skos: <http://www.w3.org/2004/02/skos/core#>\n",
    "PREFIX up: <http://purl.uniprot.org/core/>\n",
    "PREFIX taxon: <http://purl.uniprot.org/taxonomy/>\n",
    "\n",
    "\n",
    "SELECT ?geneName ?AGI \n",
    "WHERE\n",
    "{\n",
    "    ?protein a up:Protein .\n",
    "    ?protein up:organism taxon:3702 .\n",
    "    \n",
    "    ?protein up:alternativeName ?name .\n",
    "    ?protein up:encodedBy ?gene .\n",
    "    ?gene skos:prefLabel ?geneName .\n",
    "    ?gene up:locusName ?AGI .\n",
    "    ?protein up:annotation ?annotation .\n",
    "    ?annotation a up:Function_Annotation .\n",
    "    ?annotation rdfs:comment ?text .\n",
    "    FILTER regex(?text, \"pattern formation\", \"i\")\n",
    "}\n",
    "limit 10\n"
   ]
  },
  {
   "cell_type": "markdown",
   "metadata": {},
   "source": [
    "# Question 9: what is the MetaNetX Reaction identifier (starts with “mnxr”) for the UniProt Protein ​uniprotkb:Q18A79?\n",
    "\n",
    "mnxr145046c3"
   ]
  },
  {
   "cell_type": "code",
   "execution_count": 1,
   "metadata": {},
   "outputs": [
    {
     "data": {
      "text/html": [
       "<div class=\"krn-spql\"><div class=\"magic\">Endpoint set to: https://rdf.metanetx.org/sparql</div></div>"
      ],
      "text/plain": [
       "Endpoint set to: https://rdf.metanetx.org/sparql\n"
      ]
     },
     "metadata": {},
     "output_type": "display_data"
    },
    {
     "data": {
      "text/html": [
       "<div class=\"krn-spql\"><table><tr class=hdr><th>pept</th>\n",
       "<th>MNXR</th>\n",
       "<th>MNXR_ID</th></tr><tr class=odd><td class=val><a href=\"https://rdf.metanetx.org/pept/GLGA_CLOD6\" target=\"_other\">https://rdf.metanetx.org/pept/GLGA_CLOD6</a></td>\n",
       "<td class=val><a href=\"https://rdf.metanetx.org/reac/MNXR145046\" target=\"_other\">https://rdf.metanetx.org/reac/MNXR145046</a></td>\n",
       "<td class=val>mnxr145046c3</td></tr></table><div class=\"tinfo\">Total: 1, Shown: 1</div></div>"
      ]
     },
     "metadata": {},
     "output_type": "display_data"
    }
   ],
   "source": [
    "%endpoint https://rdf.metanetx.org/sparql\n",
    "\n",
    "PREFIX uniprotkb: <http://purl.uniprot.org/uniprot/>\n",
    "PREFIX mnx: <https://rdf.metanetx.org/schema/>\n",
    "PREFIX owl: <http://www.w3.org/2002/07/owl#>\n",
    "PREFIX rdf: <http://www.w3.org/1999/02/22-rdf-syntax-ns#>\n",
    "PREFIX rdfs: <http://www.w3.org/2000/01/rdf-schema#>\n",
    "\n",
    "\n",
    "select ?pept ?MNXR ?MNXR_ID\n",
    "where\n",
    "{\n",
    "    ?pept mnx:peptXref uniprotkb:Q18A79 .\n",
    "    ?cata mnx:pept ?pept ;\n",
    "          rdfs:label ?cata_label .\n",
    "    ?gpr mnx:cata ?cata ;\n",
    "         mnx:reac ?reac .\n",
    "    ?reac rdfs:label ?reac_label ;\n",
    "          rdfs:comment ?reac_eq .\n",
    "    ?mnet mnx:gpr ?gpr ;\n",
    "          rdfs:label ?mnet_label .\n",
    "    ?reac mnx:mnxr ?MNXR ;\n",
    "          rdfs:label ?MNXR_ID .\n",
    "}"
   ]
  },
  {
   "cell_type": "markdown",
   "metadata": {},
   "source": [
    "# Question 10: What is the official Gene ID (UniProt calls this a “mnemonic”) and the MetaNetX Reaction identifier (mnxr.....) for the protein that has “Starch synthase” catalytic activity in Clostridium difficile (taxon 272563).\n",
    "\n",
    "sorry, we can't get any result. If we use \"synthase\" to match, we will find some result."
   ]
  },
  {
   "cell_type": "code",
   "execution_count": 8,
   "metadata": {},
   "outputs": [
    {
     "data": {
      "text/html": [
       "<div class=\"krn-spql\"><table><tr class=hdr><th>protein</th>\n",
       "<th>geneId</th>\n",
       "<th>enzyme</th>\n",
       "<th>MNXR_ID</th></tr><tr class=odd><td class=val><a href=\"http://purl.uniprot.org/uniprot/Q18A79\" target=\"_other\">http://purl.uniprot.org/uniprot/Q18A79</a></td>\n",
       "<td class=val>GLGA_CLOD6</td>\n",
       "<td class=val><a href=\"http://purl.uniprot.org/enzyme/2.4.1.21\" target=\"_other\">http://purl.uniprot.org/enzyme/2.4.1.21</a></td>\n",
       "<td class=val>mnxr145046c3</td></tr><tr class=even><td class=val><a href=\"http://purl.uniprot.org/uniprot/Q18A79\" target=\"_other\">http://purl.uniprot.org/uniprot/Q18A79</a></td>\n",
       "<td class=val>GLGA_CLOD6</td>\n",
       "<td class=val><a href=\"http://purl.uniprot.org/enzyme/2.4.1.21\" target=\"_other\">http://purl.uniprot.org/enzyme/2.4.1.21</a></td>\n",
       "<td class=val>mnxr145046c3</td></tr></table><div class=\"tinfo\">Total: 2, Shown: 2</div></div>"
      ]
     },
     "metadata": {},
     "output_type": "display_data"
    }
   ],
   "source": [
    "# starch synthase activity: https://www.ebi.ac.uk/QuickGO/term/GO:0009011\n",
    "\n",
    "PREFIX uniprotkb: <http://purl.uniprot.org/uniprot/>\n",
    "PREFIX up: <http://purl.uniprot.org/core/>\n",
    "PREFIX mnx: <https://rdf.metanetx.org/schema/>\n",
    "PREFIX owl: <http://www.w3.org/2002/07/owl#>\n",
    "PREFIX rdf: <http://www.w3.org/1999/02/22-rdf-syntax-ns#>\n",
    "PREFIX rdfs: <http://www.w3.org/2000/01/rdf-schema#>\n",
    "PREFIX taxon: <http://purl.uniprot.org/taxonomy/>\n",
    "PREFIX GO: <http://purl.obolibrary.org/obo/GO_>\n",
    "\n",
    "select ?protein ?geneId ?enzyme ?MNXR_ID\n",
    "where {\n",
    "    service <https://sparql.uniprot.org/sparql> {\n",
    "        ?protein a up:Protein ;\n",
    "                 up:organism taxon:272563 ;\n",
    "                 up:mnemonic ?geneId ;\n",
    "                 up:classifiedWith|(up:classifiedWith/rdfs:subClassOf) GO:0009011 ;\n",
    "                 up:enzyme ?enzyme .\n",
    "    }\n",
    "    \n",
    "    ?pept mnx:peptXref ?protein .\n",
    "    ?cata mnx:pept ?pept ;\n",
    "          rdfs:label ?cata_label .\n",
    "    ?gpr mnx:cata ?cata ;\n",
    "         mnx:reac ?reac .\n",
    "    ?reac rdfs:label ?reac_label ;\n",
    "          rdfs:comment ?reac_eq .\n",
    "    ?mnet mnx:gpr ?gpr ;\n",
    "          rdfs:label ?mnet_label .\n",
    "    ?reac mnx:mnxr ?MNXR ;\n",
    "          rdfs:label ?MNXR_ID .\n",
    "}\n",
    "limit 10"
   ]
  },
  {
   "cell_type": "code",
   "execution_count": null,
   "metadata": {},
   "outputs": [],
   "source": []
  }
 ],
 "metadata": {
  "kernelspec": {
   "display_name": "SPARQL",
   "language": "sparql",
   "name": "sparql"
  },
  "language_info": {
   "codemirror_mode": {
    "name": "sparql"
   },
   "mimetype": "application/sparql-query",
   "name": "sparql",
   "pygments_lexer": "sparql-nb"
  }
 },
 "nbformat": 4,
 "nbformat_minor": 4
}
